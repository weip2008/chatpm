{
 "cells": [
  {
   "cell_type": "code",
   "execution_count": 1,
   "metadata": {},
   "outputs": [],
   "source": [
    "def f(a, b, /, c, d='50', *, e=100, f=200):\n",
    "    print(a, b, c, d, e, f)\n",
    "\n",
    "def f1(a, b, /, c, d, *, e, f):\n",
    "    print(a, b, c, d, e, f)\n",
    "\n",
    "    \"\"\"\n",
    "    a, b are positional arguments.\n",
    "    e, f are keyword-only arguments.\n",
    "    / is the separator of positional arguments from others.\n",
    "    * is the separator of keyword arguments from others.\n",
    "    c, d are possible both positional or keywords arguments.\n",
    "    \"\"\""
   ]
  },
  {
   "cell_type": "code",
   "execution_count": 2,
   "metadata": {},
   "outputs": [
    {
     "name": "stdout",
     "output_type": "stream",
     "text": [
      "1 2 3 4 100 200\n",
      "1 2 3 50 100 200\n",
      "1 2 3 4 hello world\n",
      "1 2 3 4 hello world\n",
      "1 2 3 4 hello world\n",
      "1 2 3 4 5 6\n",
      "1 2 3 4 5 200\n"
     ]
    }
   ],
   "source": [
    "f(1,2,3,4) # ignore key-word arguments\n",
    "f(1,2,3)\n",
    "f(1,2,3,4,e='hello',f='world') # override default value\n",
    "f(1,2,3,4, f='world',e='hello') # order dose not matter for k-word\n",
    "f(1,2, f='world',e='hello',c=3,d=4) # c and d are k-word\n",
    "\n",
    "f1(1,2,3,4,e=5,f=6)\n",
    "f(1,2,3,4,e=5)"
   ]
  },
  {
   "cell_type": "code",
   "execution_count": 3,
   "metadata": {},
   "outputs": [
    {
     "ename": "SyntaxError",
     "evalue": "positional argument follows keyword argument (976162792.py, line 1)",
     "output_type": "error",
     "traceback": [
      "\u001b[1;36m  Cell \u001b[1;32mIn[3], line 1\u001b[1;36m\u001b[0m\n\u001b[1;33m    f(1,2, f='world',e='hello',3,4) # order dose not matter for k-word\u001b[0m\n\u001b[1;37m                                  ^\u001b[0m\n\u001b[1;31mSyntaxError\u001b[0m\u001b[1;31m:\u001b[0m positional argument follows keyword argument\n"
     ]
    }
   ],
   "source": [
    "f(1,2, f='world',e='hello',3,4) # order dose not matter for k-word"
   ]
  },
  {
   "cell_type": "code",
   "execution_count": 4,
   "metadata": {},
   "outputs": [
    {
     "ename": "TypeError",
     "evalue": "f1() missing 2 required keyword-only arguments: 'e' and 'f'",
     "output_type": "error",
     "traceback": [
      "\u001b[1;31m---------------------------------------------------------------------------\u001b[0m",
      "\u001b[1;31mTypeError\u001b[0m                                 Traceback (most recent call last)",
      "Cell \u001b[1;32mIn[4], line 1\u001b[0m\n\u001b[1;32m----> 1\u001b[0m f1(\u001b[39m1\u001b[39;49m,\u001b[39m2\u001b[39;49m,\u001b[39m3\u001b[39;49m,\u001b[39m4\u001b[39;49m)\n",
      "\u001b[1;31mTypeError\u001b[0m: f1() missing 2 required keyword-only arguments: 'e' and 'f'"
     ]
    }
   ],
   "source": [
    "f1(1,2,3,4)"
   ]
  },
  {
   "cell_type": "code",
   "execution_count": 6,
   "metadata": {},
   "outputs": [
    {
     "name": "stdout",
     "output_type": "stream",
     "text": [
      "(3, 5, 'hello')\n"
     ]
    }
   ],
   "source": [
    "def f(x,y,z):\n",
    "    return (x, y, z)\n",
    "\n",
    "a = f(3,5,'hello')\n",
    "print(a)"
   ]
  },
  {
   "cell_type": "code",
   "execution_count": 11,
   "metadata": {},
   "outputs": [
    {
     "name": "stdout",
     "output_type": "stream",
     "text": [
      "3\n",
      "5\n",
      "hello\n"
     ]
    }
   ],
   "source": [
    "a,b,c = f(3,5,'hello')\n",
    "print(a)\n",
    "print(b)\n",
    "print(c)"
   ]
  },
  {
   "cell_type": "code",
   "execution_count": 10,
   "metadata": {},
   "outputs": [
    {
     "ename": "ValueError",
     "evalue": "too many values to unpack (expected 2)",
     "output_type": "error",
     "traceback": [
      "\u001b[1;31m---------------------------------------------------------------------------\u001b[0m",
      "\u001b[1;31mValueError\u001b[0m                                Traceback (most recent call last)",
      "Cell \u001b[1;32mIn[10], line 1\u001b[0m\n\u001b[1;32m----> 1\u001b[0m a,b \u001b[39m=\u001b[39m f(\u001b[39m3\u001b[39m,\u001b[39m5\u001b[39m,\u001b[39m'\u001b[39m\u001b[39mhello\u001b[39m\u001b[39m'\u001b[39m)\n\u001b[0;32m      2\u001b[0m \u001b[39mprint\u001b[39m(a, b)\n",
      "\u001b[1;31mValueError\u001b[0m: too many values to unpack (expected 2)"
     ]
    }
   ],
   "source": [
    "a,b = f(3,5,'hello')\n",
    "print(a, b)"
   ]
  },
  {
   "cell_type": "code",
   "execution_count": 8,
   "metadata": {},
   "outputs": [
    {
     "data": {
      "text/plain": [
       "(tuple, (3, 4, 5))"
      ]
     },
     "execution_count": 8,
     "metadata": {},
     "output_type": "execute_result"
    }
   ],
   "source": [
    "a = 3,4,5\n",
    "type(a),a"
   ]
  }
 ],
 "metadata": {
  "kernelspec": {
   "display_name": ".venv",
   "language": "python",
   "name": "python3"
  },
  "language_info": {
   "codemirror_mode": {
    "name": "ipython",
    "version": 3
   },
   "file_extension": ".py",
   "mimetype": "text/x-python",
   "name": "python",
   "nbconvert_exporter": "python",
   "pygments_lexer": "ipython3",
   "version": "3.10.4"
  },
  "orig_nbformat": 4
 },
 "nbformat": 4,
 "nbformat_minor": 2
}
